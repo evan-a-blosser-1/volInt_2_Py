{
 "cells": [
  {
   "cell_type": "markdown",
   "id": "6a52b289",
   "metadata": {},
   "source": [
    "# Worksapce \n",
    "\n"
   ]
  },
  {
   "cell_type": "code",
   "execution_count": null,
   "id": "09bf7b0d",
   "metadata": {},
   "outputs": [
    {
     "name": "stdout",
     "output_type": "stream",
     "text": [
      "[[' -0.058457 0.358872 0.591007' ' -0.066710 0.355750 0.591644'\n",
      "  ' -0.043112 0.354124 0.591325' ... ' 0.364172 0.093303 -0.510300'\n",
      "  ' 0.179480 0.104379 -0.544479' ' 0.126730 0.058077 -0.546444']]\n"
     ]
    }
   ],
   "source": [
    "import numpy as np\n",
    "File = 'Apophis.obj'\n",
    "\n",
    "with open(File, 'r') as obj_file: \n",
    "    obj_data = obj_file.readlines()                          \n",
    "#######################################\n",
    "################ Empty Array  \n",
    "Vert_Data = []        \n",
    "Face_Data = []        \n",
    "################ Count Variables\n",
    "numb_vert = 0\n",
    "numb_face = 0\n",
    "####################################\n",
    "################# Scan Lines in data  \n",
    "for line in obj_data: \n",
    "###################################       \n",
    "######## For lines starting with v\n",
    "    if line.startswith('v '):\n",
    "        ################## Count\n",
    "        numb_vert += 1\n",
    "        ################## Strip & Assign     \n",
    "        _, x, y, z = line.strip().split()\n",
    "        # Append to array\n",
    "        Vert_Data.append(f\" {x} {y} {z}\")\n",
    "####################################\n",
    "######## For lines starting with f\n",
    "    if line.startswith('f '):\n",
    "        ################## Count\n",
    "        numb_face += 1\n",
    "        ################## Strip & Assign \n",
    "        _, x, y, z = line.strip().split()\n",
    "        # Append to array\n",
    "        Face_Data.append(f\"3 {x} {y} {z}\")\n",
    "##################################################\n",
    "V = np.array([Vert_Data])\n",
    "F = np.array([Face_Data])\n",
    "numb_vert = np.array([numb_vert])\n",
    "numb_face = np.array([numb_face])\n",
    "#################################\n",
    "print(V)"
   ]
  },
  {
   "cell_type": "code",
   "execution_count": 4,
   "id": "41c6e165",
   "metadata": {},
   "outputs": [
    {
     "ename": "SyntaxError",
     "evalue": "invalid syntax (3654320388.py, line 5)",
     "output_type": "error",
     "traceback": [
      "\u001b[1;36m  Cell \u001b[1;32mIn[4], line 5\u001b[1;36m\u001b[0m\n\u001b[1;33m    dx1 = V[]\u001b[0m\n\u001b[1;37m            ^\u001b[0m\n\u001b[1;31mSyntaxError\u001b[0m\u001b[1;31m:\u001b[0m invalid syntax\n"
     ]
    }
   ],
   "source": [
    "num = len(F)\n",
    "norm = np.zeros((3,num))\n",
    "print(V)\n",
    "for i in range(num):\n",
    "    dx1 = V[]\n",
    "    dy1\n",
    "    dz1\n",
    "    dx2 \n",
    "    dy2\n",
    "    dz2\n",
    "    \n",
    "    nx \n",
    "    ny \n",
    "    nz \n",
    "    \n",
    "    n_mag = np.sqrt(nx**2 + ny**2 + nz**2)\n",
    "    # Normalize\n",
    "    norm[0,i] = nx/n_mag\n",
    "    norm[1,i] = ny/n_mag\n",
    "    norm[2,i] = nz/n_mag\n",
    "    \n",
    "print(norm)"
   ]
  },
  {
   "cell_type": "code",
   "execution_count": null,
   "id": "44c16511",
   "metadata": {},
   "outputs": [],
   "source": []
  }
 ],
 "metadata": {
  "kernelspec": {
   "display_name": "Python 3",
   "language": "python",
   "name": "python3"
  },
  "language_info": {
   "codemirror_mode": {
    "name": "ipython",
    "version": 3
   },
   "file_extension": ".py",
   "mimetype": "text/x-python",
   "name": "python",
   "nbconvert_exporter": "python",
   "pygments_lexer": "ipython3",
   "version": "3.12.4"
  }
 },
 "nbformat": 4,
 "nbformat_minor": 5
}
